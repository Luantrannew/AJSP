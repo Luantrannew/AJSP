{
 "cells": [
  {
   "cell_type": "code",
   "execution_count": 2,
   "metadata": {},
   "outputs": [],
   "source": [
    "import os\n",
    "import time\n",
    "import re\n",
    "import random\n",
    "import requests\n",
    "import random\n",
    "import pandas as pd\n",
    "import zipfile\n",
    "from selenium import webdriver\n",
    "from selenium.webdriver.common.by import By\n",
    "from selenium.webdriver.support.ui import WebDriverWait\n",
    "from selenium.webdriver.chrome.service import Service\n",
    "from webdriver_manager.chrome import ChromeDriverManager\n",
    "from selenium.webdriver.support import expected_conditions as EC\n",
    "from selenium.webdriver.chrome.options import Options\n",
    "from selenium.webdriver.common.keys import Keys\n",
    "from selenium.webdriver.common.action_chains import ActionChains\n",
    "from selenium.common.exceptions import TimeoutException\n",
    "from bs4 import BeautifulSoup"
   ]
  },
  {
   "cell_type": "code",
   "execution_count": 4,
   "metadata": {},
   "outputs": [
    {
     "name": "stderr",
     "output_type": "stream",
     "text": [
      "C:\\Users\\trand\\AppData\\Local\\Temp\\ipykernel_9440\\2423972765.py:27: DeprecationWarning: executable_path has been deprecated, please pass in a Service object\n",
      "  driver = webdriver.Chrome(chrome_driver_path, options=options)\n"
     ]
    }
   ],
   "source": [
    "# ChromeDriver path\n",
    "chrome_driver_path = 'C:/Users/trand/chromedriver.exe'\n",
    "\n",
    "# Set up Chrome options\n",
    "options = Options()\n",
    "options.add_argument(\"--disable-infobars\")\n",
    "options.add_experimental_option(\"excludeSwitches\", [\"enable-automation\"])\n",
    "options.add_experimental_option('useAutomationExtension', False)\n",
    "\n",
    "# Disable password manager prompts\n",
    "prefs = {\"credentials_enable_service\": False,\n",
    "         \"profile.password_manager_enabled\": False}\n",
    "options.add_experimental_option(\"prefs\", prefs)\n",
    "\n",
    "# Randomize User-Agent\n",
    "user_agents = [\n",
    "    'Mozilla/5.0 (Macintosh; Intel Mac OS X 10_15_7) AppleWebKit/537.36 (KHTML, like Gecko) Chrome/115.0.0.0 Safari/537.36',\n",
    "    'Mozilla/5.0 (Windows NT 10.0; Win64; x64) AppleWebKit/537.36 (KHTML, like Gecko) Chrome/114.0.0.0 Safari/537.36',\n",
    "    'Mozilla/5.0 (Windows NT 10.0; Win64; x64) AppleWebKit/537.36 (KHTML, like Gecko) Chrome/116.0.0.0 Safari/537.36',\n",
    "]\n",
    "options.add_argument(f\"user-agent={random.choice(user_agents)}\")\n",
    "# options.add_argument(\"user-data-dir=C:\\\\Users\\\\trand\\\\AppData\\\\Local\\\\Google\\\\Chrome\\\\User Data\\\\Profile 3\")  \n",
    "\n",
    "\n",
    "# Launch browser\n",
    "driver = webdriver.Chrome(chrome_driver_path, options=options)\n",
    "driver.get(\"https://www.vietnamworks.com\")\n",
    "actions = ActionChains(driver)\n",
    "time.sleep(3)\n",
    "search_btn = driver.find_element(By.CSS_SELECTOR,\"button.sc-cspYLC.hYKSlj.btn-primary.btn-md.search__button.clickable\")\n",
    "actions.move_to_element(search_btn).click(search_btn).perform()\n"
   ]
  },
  {
   "cell_type": "code",
   "execution_count": null,
   "metadata": {},
   "outputs": [],
   "source": []
  },
  {
   "cell_type": "markdown",
   "metadata": {},
   "source": [
    "##### vì phải hover nên phải lấy page_source"
   ]
  },
  {
   "cell_type": "code",
   "execution_count": 6,
   "metadata": {},
   "outputs": [
    {
     "name": "stdout",
     "output_type": "stream",
     "text": [
      "Page source đã được lưu thành file page_source.html\n"
     ]
    }
   ],
   "source": [
    "time.sleep(2)\n",
    "\n",
    "# Lấy page source\n",
    "page_source = driver.page_source\n",
    "\n",
    "# Lưu page source thành file HTML\n",
    "with open(\"page_source.html\", \"w\", encoding=\"utf-8\") as file:\n",
    "    file.write(page_source)\n",
    "\n",
    "print(\"Page source đã được lưu thành file page_source.html\")"
   ]
  },
  {
   "cell_type": "code",
   "execution_count": 17,
   "metadata": {},
   "outputs": [
    {
     "name": "stdout",
     "output_type": "stream",
     "text": [
      "1\n",
      "2\n",
      "3\n",
      "4\n",
      "đã click và bỏ ngành Bảo Mật Công Nghệ Thông Tin\n",
      "đã click và bỏ ngành IT Support/Help Desk\n",
      "đã click và bỏ ngành Phần Cứng Máy Tính\n",
      "đã click và bỏ ngành Phần Mềm Máy Tính\n",
      "đã click và bỏ ngành Viễn Thông\n"
     ]
    }
   ],
   "source": [
    "# bấm vào nút chọn ngành công nghệ thông tin \n",
    "\n",
    "major_btn = driver.find_element(By.CSS_SELECTOR,'span.sc-inyXkq.vrMDF')\n",
    "print(1)\n",
    "actions.move_to_element(major_btn).click(major_btn).perform()\n",
    "\n",
    "time.sleep(2)\n",
    "\n",
    "major_element = driver.find_elements(By.CSS_SELECTOR,'div.sc-dUOoGL.GLPPf')[5]\n",
    "print(2)\n",
    "actions.move_to_element(major_element).click(major_element).perform()\n",
    "\n",
    "time.sleep(2)\n",
    "\n",
    "right_dropbox = driver.find_element(By.CSS_SELECTOR,\"div.sc-dovdUy.fgCUqA\")\n",
    "print(3)\n",
    "# print(f'right_dropbox :{right_dropbox}')\n",
    "list_data_majors = right_dropbox.find_elements(By.CSS_SELECTOR,\"div.sc-dUOoGL.cXyXNL\")\n",
    "print(4)\n",
    "# print(f'list_data_majors :{list_data_majors} ')\n",
    "\n",
    "# list wrong_majort lấy trong  list_data_majors  là ([0] [3] [5] [6] [13])\n",
    "wrong_major_indices = [1, 4, 6, 7, 14]\n",
    "wrong_majors = [list_data_majors[i] for i in wrong_major_indices]\n",
    "\n",
    "for major in wrong_majors: \n",
    "    time.sleep(1)\n",
    "    major_name = major.find_element(By.CSS_SELECTOR,\"span.sc-cMRZhK.eAsacu\").text\n",
    "    actions.move_to_element(major).perform()\n",
    "    time.sleep(2)\n",
    "    actions.click(major).perform()\n",
    "    print(f'đã click và bỏ ngành {major_name}')\n",
    "\n",
    "time.sleep(1)\n",
    "out_search_btn = driver.find_element(By.CSS_SELECTOR,\"span.sc-kUIVZf.cSUTtz\")\n",
    "actions.move_to_element(out_search_btn).click(out_search_btn).perform()"
   ]
  },
  {
   "cell_type": "markdown",
   "metadata": {},
   "source": [
    "#### lấy href job"
   ]
  },
  {
   "cell_type": "code",
   "execution_count": 13,
   "metadata": {},
   "outputs": [
    {
     "name": "stdout",
     "output_type": "stream",
     "text": [
      "move\n",
      "href: https://www.vietnamworks.com/java-backend-senior-developer-1862750-jv?source=searchResults&searchType=2&placement=1862750&sortBy=date\n",
      "https://www.vietnamworks.com/java-backend-senior-developer-1862750-jv?source=searchResults&searchType=2&placement=1862750&sortBy=date\n",
      "move\n",
      "href: https://www.vietnamworks.com/business-analyst--1864488-jv?source=searchResults&searchType=2&placement=1864488&sortBy=date\n",
      "https://www.vietnamworks.com/business-analyst--1864488-jv?source=searchResults&searchType=2&placement=1864488&sortBy=date\n",
      "move\n",
      "href: https://www.vietnamworks.com/data-engineer-sql-adf-and-cosmos-db-1886890-jv?source=searchResults&searchType=2&placement=1886890&sortBy=date\n",
      "https://www.vietnamworks.com/data-engineer-sql-adf-and-cosmos-db-1886890-jv?source=searchResults&searchType=2&placement=1886890&sortBy=date\n",
      "move\n",
      "href: https://www.vietnamworks.com/head-of-data-architecture-and-governance-department-1886034-jv?source=searchResults&searchType=2&placement=1886034&sortBy=date\n",
      "https://www.vietnamworks.com/head-of-data-architecture-and-governance-department-1886034-jv?source=searchResults&searchType=2&placement=1886034&sortBy=date\n",
      "move\n",
      "href: https://www.vietnamworks.com/it-application-specialist--1872553-jv?source=searchResults&searchType=2&placement=1872553&sortBy=date\n",
      "https://www.vietnamworks.com/it-application-specialist--1872553-jv?source=searchResults&searchType=2&placement=1872553&sortBy=date\n",
      "move\n",
      "href: https://www.vietnamworks.com/it-dba-operations-1888240-jv?source=searchResults&searchType=2&placement=1888240&sortBy=date\n",
      "https://www.vietnamworks.com/it-dba-operations-1888240-jv?source=searchResults&searchType=2&placement=1888240&sortBy=date\n",
      "move\n",
      "href: https://www.vietnamworks.com/chuyen-vien-phat-trien-va-van-hanh-he-thong-nhom-du-lieu-lon-cv2-ma-cmt-cv2-1889401-jv?source=searchResults&searchType=2&placement=1889401&sortBy=date\n",
      "https://www.vietnamworks.com/chuyen-vien-phat-trien-va-van-hanh-he-thong-nhom-du-lieu-lon-cv2-ma-cmt-cv2-1889401-jv?source=searchResults&searchType=2&placement=1889401&sortBy=date\n",
      "move\n",
      "href: https://www.vietnamworks.com/chuyen-vien-quan-tri-he-thong-or-it-system-admin-1879106-jv?source=searchResults&searchType=2&placement=1879106&sortBy=date\n",
      "https://www.vietnamworks.com/chuyen-vien-quan-tri-he-thong-or-it-system-admin-1879106-jv?source=searchResults&searchType=2&placement=1879106&sortBy=date\n",
      "move\n",
      "href: https://www.vietnamworks.com/chuyen-gia-phat-trien-backend-va-toi-uu-csdl-1888057-jv?source=searchResults&searchType=2&placement=1888057&sortBy=date\n",
      "https://www.vietnamworks.com/chuyen-gia-phat-trien-backend-va-toi-uu-csdl-1888057-jv?source=searchResults&searchType=2&placement=1888057&sortBy=date\n",
      "move\n",
      "href: https://www.vietnamworks.com/dev-cho-api-va-co-so-du-lieu-thuong-mai-dien-tu-1889250-jv?source=searchResults&searchType=2&placement=1889250&sortBy=date\n",
      "https://www.vietnamworks.com/dev-cho-api-va-co-so-du-lieu-thuong-mai-dien-tu-1889250-jv?source=searchResults&searchType=2&placement=1889250&sortBy=date\n",
      "move\n",
      "href: https://www.vietnamworks.com/japanese-brse-ky-su-cau-noi-tieng-nhat-tieng-nhat-n2--1885747-jv?source=searchResults&searchType=2&placement=1885747&sortBy=date\n",
      "https://www.vietnamworks.com/japanese-brse-ky-su-cau-noi-tieng-nhat-tieng-nhat-n2--1885747-jv?source=searchResults&searchType=2&placement=1885747&sortBy=date\n",
      "move\n",
      "href: https://www.vietnamworks.com/chuyen-vien-cao-cap-phat-trien-he-thong-quan-tri-tai-chinh-k-cntt-1889195-jv?source=searchResults&searchType=2&placement=1889195&sortBy=date\n",
      "https://www.vietnamworks.com/chuyen-vien-cao-cap-phat-trien-he-thong-quan-tri-tai-chinh-k-cntt-1889195-jv?source=searchResults&searchType=2&placement=1889195&sortBy=date\n",
      "move\n",
      "href: https://www.vietnamworks.com/data-product-manager-global-ecommerce-supply-chain-system-total-annual-compensation-over-100-000-1878782-jv?source=searchResults&searchType=2&placement=1878782&sortBy=date\n",
      "https://www.vietnamworks.com/data-product-manager-global-ecommerce-supply-chain-system-total-annual-compensation-over-100-000-1878782-jv?source=searchResults&searchType=2&placement=1878782&sortBy=date\n",
      "move\n",
      "href: https://www.vietnamworks.com/senior-data-analyst--1883921-jv?source=searchResults&searchType=2&placement=1883921&sortBy=date\n",
      "https://www.vietnamworks.com/senior-data-analyst--1883921-jv?source=searchResults&searchType=2&placement=1883921&sortBy=date\n",
      "move\n",
      "href: https://www.vietnamworks.com/information-and-communication-technology-ict-executive-1884204-jv?source=searchResults&searchType=2&placement=1884204&sortBy=date\n",
      "https://www.vietnamworks.com/information-and-communication-technology-ict-executive-1884204-jv?source=searchResults&searchType=2&placement=1884204&sortBy=date\n",
      "move\n",
      "href: https://www.vietnamworks.com/senior-database-administrator-1888599-jv?source=searchResults&searchType=2&placement=1888599&sortBy=date\n",
      "https://www.vietnamworks.com/senior-database-administrator-1888599-jv?source=searchResults&searchType=2&placement=1888599&sortBy=date\n",
      "move\n",
      "href: https://www.vietnamworks.com/scrum-master-1875880-jv?source=searchResults&searchType=2&placement=1875880&sortBy=date\n",
      "https://www.vietnamworks.com/scrum-master-1875880-jv?source=searchResults&searchType=2&placement=1875880&sortBy=date\n",
      "move\n",
      "href: https://www.vietnamworks.com/ai-engineer-1881699-jv?source=searchResults&searchType=2&placement=1881699&sortBy=date\n",
      "https://www.vietnamworks.com/ai-engineer-1881699-jv?source=searchResults&searchType=2&placement=1881699&sortBy=date\n",
      "move\n",
      "href: https://www.vietnamworks.com/ho-chuyen-vien-van-hanh-ung-dung-cntt-1878389-jv?source=searchResults&searchType=2&placement=1878389&sortBy=date\n",
      "https://www.vietnamworks.com/ho-chuyen-vien-van-hanh-ung-dung-cntt-1878389-jv?source=searchResults&searchType=2&placement=1878389&sortBy=date\n",
      "move\n",
      "href: https://www.vietnamworks.com/chuyen-vien-quan-tri-co-so-du-lieu--1876192-jv?source=searchResults&searchType=2&placement=1876192&sortBy=date\n",
      "https://www.vietnamworks.com/chuyen-vien-quan-tri-co-so-du-lieu--1876192-jv?source=searchResults&searchType=2&placement=1876192&sortBy=date\n",
      "move\n",
      "href: https://www.vietnamworks.com/chuyen-vien-tham-djinh-cho-vay-phong-san-pham-1883174-jv?source=searchResults&searchType=2&placement=1883174&sortBy=date\n",
      "https://www.vietnamworks.com/chuyen-vien-tham-djinh-cho-vay-phong-san-pham-1883174-jv?source=searchResults&searchType=2&placement=1883174&sortBy=date\n",
      "move\n",
      "href: https://www.vietnamworks.com/chuyen-vien-cao-cap-phan-tich-tai-chinh-ha-noi-fin-1875537-jv?source=searchResults&searchType=2&placement=1875537&sortBy=date\n",
      "https://www.vietnamworks.com/chuyen-vien-cao-cap-phan-tich-tai-chinh-ha-noi-fin-1875537-jv?source=searchResults&searchType=2&placement=1875537&sortBy=date\n",
      "move\n",
      "href: https://www.vietnamworks.com/senior-it-business-analyst-consultant-english-german-speaking-1880528-jv?source=searchResults&searchType=2&placement=1880528&sortBy=date\n",
      "https://www.vietnamworks.com/senior-it-business-analyst-consultant-english-german-speaking-1880528-jv?source=searchResults&searchType=2&placement=1880528&sortBy=date\n",
      "move\n",
      "href: https://www.vietnamworks.com/technical-leader-for-japan-market--1872138-jv?source=searchResults&searchType=2&placement=1872138&sortBy=date\n",
      "https://www.vietnamworks.com/technical-leader-for-japan-market--1872138-jv?source=searchResults&searchType=2&placement=1872138&sortBy=date\n",
      "move\n",
      "href: https://www.vietnamworks.com/bi-developer-data-analyst--1880892-jv?source=searchResults&searchType=2&placement=1880892&sortBy=date\n",
      "https://www.vietnamworks.com/bi-developer-data-analyst--1880892-jv?source=searchResults&searchType=2&placement=1880892&sortBy=date\n",
      "move\n",
      "href: https://www.vietnamworks.com/chuyen-vien-phat-trien-phan-mem-it--1877611-jv?source=searchResults&searchType=2&placement=1877611&sortBy=date\n",
      "https://www.vietnamworks.com/chuyen-vien-phat-trien-phan-mem-it--1877611-jv?source=searchResults&searchType=2&placement=1877611&sortBy=date\n",
      "move\n",
      "href: https://www.vietnamworks.com/data-engineer-expert-senior-1880678-jv?source=searchResults&searchType=2&placement=1880678&sortBy=date\n",
      "https://www.vietnamworks.com/data-engineer-expert-senior-1880678-jv?source=searchResults&searchType=2&placement=1880678&sortBy=date\n",
      "move\n",
      "href: https://www.vietnamworks.com/chuyen-vien-cao-cap-phan-tich-kinh-doanh-mang-thu-hoi-no-ha-noi-rcc-1873292-jv?source=searchResults&searchType=2&placement=1873292&sortBy=date\n",
      "https://www.vietnamworks.com/chuyen-vien-cao-cap-phan-tich-kinh-doanh-mang-thu-hoi-no-ha-noi-rcc-1873292-jv?source=searchResults&searchType=2&placement=1873292&sortBy=date\n",
      "move\n",
      "href: https://www.vietnamworks.com/nhan-vien-trien-khai-phan-mem--1883815-jv?source=searchResults&searchType=2&placement=1883815&sortBy=date\n",
      "https://www.vietnamworks.com/nhan-vien-trien-khai-phan-mem--1883815-jv?source=searchResults&searchType=2&placement=1883815&sortBy=date\n",
      "move\n",
      "href: https://www.vietnamworks.com/senior-software-engineer-1880246-jv?source=searchResults&searchType=2&placement=1880246&sortBy=date\n",
      "https://www.vietnamworks.com/senior-software-engineer-1880246-jv?source=searchResults&searchType=2&placement=1880246&sortBy=date\n",
      "move\n",
      "href: https://www.vietnamworks.com/ky-su-it-luong-len-toi-25-trieu-thang--1880283-jv?source=searchResults&searchType=2&placement=1880283&sortBy=date\n",
      "https://www.vietnamworks.com/ky-su-it-luong-len-toi-25-trieu-thang--1880283-jv?source=searchResults&searchType=2&placement=1880283&sortBy=date\n",
      "move\n",
      "href: https://www.vietnamworks.com/tro-ly-erp-thu-nhap-hap-dan-1879840-jv?source=searchResults&searchType=2&placement=1879840&sortBy=date\n",
      "https://www.vietnamworks.com/tro-ly-erp-thu-nhap-hap-dan-1879840-jv?source=searchResults&searchType=2&placement=1879840&sortBy=date\n",
      "move\n",
      "href: https://www.vietnamworks.com/it-cobol-developer-core-insurance-1863360-jv?source=searchResults&searchType=2&placement=1863360&sortBy=date\n",
      "https://www.vietnamworks.com/it-cobol-developer-core-insurance-1863360-jv?source=searchResults&searchType=2&placement=1863360&sortBy=date\n",
      "move\n",
      "href: https://www.vietnamworks.com/business-analyst-1886729-jv?source=searchResults&searchType=2&placement=1886729&sortBy=date\n",
      "https://www.vietnamworks.com/business-analyst-1886729-jv?source=searchResults&searchType=2&placement=1886729&sortBy=date\n",
      "move\n",
      "href: https://www.vietnamworks.com/campaign-manager-1886720-jv?source=searchResults&searchType=2&placement=1886720&sortBy=date\n",
      "https://www.vietnamworks.com/campaign-manager-1886720-jv?source=searchResults&searchType=2&placement=1886720&sortBy=date\n",
      "move\n",
      "href: https://www.vietnamworks.com/data-analytics-1886710-jv?source=searchResults&searchType=2&placement=1886710&sortBy=date\n",
      "https://www.vietnamworks.com/data-analytics-1886710-jv?source=searchResults&searchType=2&placement=1886710&sortBy=date\n",
      "move\n",
      "href: https://www.vietnamworks.com/ai-engineer-1886703-jv?source=searchResults&searchType=2&placement=1886703&sortBy=date\n",
      "https://www.vietnamworks.com/ai-engineer-1886703-jv?source=searchResults&searchType=2&placement=1886703&sortBy=date\n",
      "move\n",
      "href: https://www.vietnamworks.com/business-analytics-senior-officer-1886696-jv?source=searchResults&searchType=2&placement=1886696&sortBy=date\n",
      "https://www.vietnamworks.com/business-analytics-senior-officer-1886696-jv?source=searchResults&searchType=2&placement=1886696&sortBy=date\n",
      "move\n",
      "href: https://www.vietnamworks.com/senior-data-analyst-executive-finance-1864839-jv?source=searchResults&searchType=2&placement=1864839&sortBy=date\n",
      "https://www.vietnamworks.com/senior-data-analyst-executive-finance-1864839-jv?source=searchResults&searchType=2&placement=1864839&sortBy=date\n",
      "move\n",
      "href: https://www.vietnamworks.com/data-scientist--1882347-jv?source=searchResults&searchType=2&placement=1882347&sortBy=date\n",
      "https://www.vietnamworks.com/data-scientist--1882347-jv?source=searchResults&searchType=2&placement=1882347&sortBy=date\n",
      "move\n",
      "href: https://www.vietnamworks.com/pm-du-an-he-thong-quan-ly-ho-so-cung-khoi-van-hanh-1866384-jv?source=searchResults&searchType=2&placement=1866384&sortBy=date\n",
      "https://www.vietnamworks.com/pm-du-an-he-thong-quan-ly-ho-so-cung-khoi-van-hanh-1866384-jv?source=searchResults&searchType=2&placement=1866384&sortBy=date\n",
      "move\n",
      "href: https://www.vietnamworks.com/chuyen-vien-phan-tich-du-lieu-senior-customer-data-analyst-1875729-jv?source=searchResults&searchType=2&placement=1875729&sortBy=date\n",
      "https://www.vietnamworks.com/chuyen-vien-phan-tich-du-lieu-senior-customer-data-analyst-1875729-jv?source=searchResults&searchType=2&placement=1875729&sortBy=date\n",
      "move\n",
      "href: https://www.vietnamworks.com/truong-bo-phan-quan-tri-rui-ro-tin-dung-credit-risk-manager-1876088-jv?source=searchResults&searchType=2&placement=1876088&sortBy=date\n",
      "https://www.vietnamworks.com/truong-bo-phan-quan-tri-rui-ro-tin-dung-credit-risk-manager-1876088-jv?source=searchResults&searchType=2&placement=1876088&sortBy=date\n",
      "move\n",
      "href: https://www.vietnamworks.com/chubb-life-distribution-compensation-specialist-sql--1858336-jv?source=searchResults&searchType=2&placement=1858336&sortBy=date\n",
      "https://www.vietnamworks.com/chubb-life-distribution-compensation-specialist-sql--1858336-jv?source=searchResults&searchType=2&placement=1858336&sortBy=date\n",
      "move\n",
      "href: https://www.vietnamworks.com/nhan-vien-van-hanh-ung-dung-luong-va-djai-ngo-hap-dan-thuong-khac-tuong-djuong-20-30percent-1875786-jv?source=searchResults&searchType=2&placement=1875786&sortBy=date\n",
      "https://www.vietnamworks.com/nhan-vien-van-hanh-ung-dung-luong-va-djai-ngo-hap-dan-thuong-khac-tuong-djuong-20-30percent-1875786-jv?source=searchResults&searchType=2&placement=1875786&sortBy=date\n",
      "move\n",
      "href: https://www.vietnamworks.com/ky-su-phat-trien-giai-phap-oracle-khoi-cong-nghe-thong-tin-ho25-63-1875186-jv?source=searchResults&searchType=2&placement=1875186&sortBy=date\n",
      "https://www.vietnamworks.com/ky-su-phat-trien-giai-phap-oracle-khoi-cong-nghe-thong-tin-ho25-63-1875186-jv?source=searchResults&searchType=2&placement=1875186&sortBy=date\n",
      "move\n",
      "href: https://www.vietnamworks.com/automation-tester-1875297-jv?source=searchResults&searchType=2&placement=1875297&sortBy=date\n",
      "https://www.vietnamworks.com/automation-tester-1875297-jv?source=searchResults&searchType=2&placement=1875297&sortBy=date\n",
      "move\n",
      "href: https://www.vietnamworks.com/chuyen-vien-phat-trien-ung-dung-cntt-van-hanh-1882038-jv?source=searchResults&searchType=2&placement=1882038&sortBy=date\n",
      "https://www.vietnamworks.com/chuyen-vien-phat-trien-ung-dung-cntt-van-hanh-1882038-jv?source=searchResults&searchType=2&placement=1882038&sortBy=date\n",
      "move\n",
      "href: https://www.vietnamworks.com/software-developer-1883021-jv?source=searchResults&searchType=2&placement=1883021&sortBy=date\n",
      "https://www.vietnamworks.com/software-developer-1883021-jv?source=searchResults&searchType=2&placement=1883021&sortBy=date\n",
      "move\n",
      "href: https://www.vietnamworks.com/chuyen-vien-tuyen-dung-talent-acquisition-khoi-to-chuc-nhan-su-ho25-75-1879559-jv?source=searchResults&searchType=2&placement=1879559&sortBy=date\n",
      "https://www.vietnamworks.com/chuyen-vien-tuyen-dung-talent-acquisition-khoi-to-chuc-nhan-su-ho25-75-1879559-jv?source=searchResults&searchType=2&placement=1879559&sortBy=date\n"
     ]
    }
   ],
   "source": [
    "seen_job = set()\n",
    "i = 0\n",
    "\n",
    "while True:\n",
    "\t\t# Lấy danh sách job    \n",
    "\t\tjob_board = driver.find_element(By.CSS_SELECTOR, \"div.block-job-list\")\n",
    "\t\tjob_list = job_board.find_elements(By.CSS_SELECTOR, \"div.sc-iVDsrp.frxvCT\")\n",
    "\t\tfor job in job_list: \n",
    "\t\t\t\tactions.move_to_element(job).perform()\n",
    "\t\t\t\tprint('move')\n",
    "\t\t\t\thref = job.find_element(By.CSS_SELECTOR, \"a.img_job_card\").get_attribute(\"href\")\n",
    "\t\t\t\tprint('href:',href)\n",
    "\t\t\t\t# Kiểm tra nếu href đã được xử lý\n",
    "\t\t\t\tif href in seen_job:\n",
    "\t\t\t\t\t\tcontinue\n",
    "\t\t\t\telse:\n",
    "\t\t\t\t\t\tprint(href)\n",
    "\t\t\t\t\t\tseen_job.add(href) \n",
    "\t\t\t\t\t\ti += 1\n",
    "\t\t\t\t\t\t\n",
    "\t\ttime.sleep(2)\n",
    "\n",
    "\t\tif i >= 20:\n",
    "\t\t\t\tbreak\n"
   ]
  },
  {
   "cell_type": "code",
   "execution_count": null,
   "metadata": {},
   "outputs": [],
   "source": [
    "'''\n",
    "button.sc-bHnlcS.eYAitF.btn-info.btn-lg  # nút trang 1\n",
    "\n",
    "button.sc-bHnlcS.kKCTqE.btn-default.btn-md.clickable  # nút trang 2 và các trang còn lại \n",
    "\n",
    "'''"
   ]
  },
  {
   "cell_type": "markdown",
   "metadata": {},
   "source": [
    "#### lấy detail job "
   ]
  },
  {
   "cell_type": "code",
   "execution_count": 38,
   "metadata": {},
   "outputs": [],
   "source": [
    "# chuyển qua tab của công việc, sau này sẽ thay bằng đi vào từng href \n",
    "tabs = driver.window_handles\n",
    "driver.switch_to.window(tabs[3])"
   ]
  },
  {
   "cell_type": "code",
   "execution_count": null,
   "metadata": {},
   "outputs": [],
   "source": [
    "name = ''\n",
    "salary = ''\n",
    "company_href = ''\n",
    "JD_JR = ''\n",
    "city_region = '' \n",
    "\n",
    "\n",
    "'''\n",
    "h1.sc-df6f4dcb-0.bsKseP  # job name\n",
    "\n",
    "\"div.sc-37577279-3.drWnZq a\"  # company_href\n",
    "\n",
    "span.sc-df6f4dcb-0.iOaLcj  # salary , phần tử [0]\n",
    "\n",
    "span.sc-df6f4dcb-0.bgAmOO  # city, phần tử thứ [2]\n",
    "\n",
    "button.sc-6d845a53-0.dnzMim.btn-info.btn-md.sc-4913d170-2.jZDliU.clickable # button xem thêm trong JD\n",
    "\n",
    "\n",
    "div.sc-4913d170-3.hOVYfk\n",
    "'''"
   ]
  },
  {
   "cell_type": "code",
   "execution_count": 39,
   "metadata": {},
   "outputs": [
    {
     "name": "stdout",
     "output_type": "stream",
     "text": [
      "Mô tả công việc\n",
      "1. Mô tả công việc\n",
      "• Xây dựng, phát triển và duy trì mô hình dữ liệu, hệ thống báo cáo, hệ thống tự động hóa dữ liệu, bảng điều khiển và chỉ số hiệu suất/tài chính.\n",
      "• Thực hiện phân bổ hợp đồng của Khách hàng cho các bộ phận chuyên môn tiến hành nghiệp vụ thu hồi nợ, trích xuất dữ liệu và thực hiện các yêu cầu khác từ Quản lý trực tiếp và/hoặc Giám đốc Collection Fico và/hoặc các bộ phận liên quan của Phòng.\n",
      "• Thực hiện tính toán các báo cáo về chỉ số hiệu quả hoạt động chu kỳ mỗi ngày/ tuần/ tháng…. Cung cấp các phân tích kĩ thuật cần thiết. Chịu trách nhiệm hỗ trợ vận hành thu hồi nợ về Báo cáo, Phân tích, cung cấp/ kiểm tra dữ liệu tính thưởng … đảm bảo hoàn thành đầy đủ và đúng hạn.\n",
      "• Phối hợp với Phòng Công nghệ thông tin IT-TPFico/IT-HO xây dựng phân hệ dữ liệu thu hồi nợ, đảm bảo tính sẵn sàng và toàn vẹn của dữ liệu phục vụ công tác báo cáo, phân tích và các hoạt động khác liên quan đến thu hồi nợ.\n",
      "• Xây dựng các nhóm báo cáo (tracker, dashboard) thể hiện một cách chính xác và có ý nghĩa các kết quả, chỉ số thu hồi nợ.\n",
      "• Xây dựng các công cụ dự báo tự động trực quan hiệu quả nhằm truyền đạt đến các bộ phận Phòng để vận hành thu hồi nợ tối ưu.\n",
      "• Các yêu cầu khác từ Quản lý trực tiếp và Ban Lãnh Đạo\n",
      "Yêu cầu công việc\n",
      "2. Yêu cầu:\n",
      "• Tốt nghiệp cử nhân chuyên ngành Tài chính, Ngân hàng, Thống kê, Khoa học dữ liệu,...\n",
      "• Tối thiểu 02 năm kinh nghiệm ở vị trí hiện tại thuộc lĩnh vực tài chính ngân hàng hoặc các công ty chuyên về xử lý data và phân tích dữ liệu.\n",
      "• Kiến thức vững chắc về các phương pháp hay nhất về bộ sưu tập, dữ liệu trung tâm cuộc gọi, dữ liệu và số liệu chiến lược liên hệ.\n",
      "• Kinh nghiệm với các phương pháp kiểm tra và kiểm soát.\n",
      "• Khả năng tư duy phân tích và chiến lược tốt.\n",
      "• Thành thạo với các bộ công cụ phân tích, bao gồm cả SQL, Excel và xử lý dữ liệu.\n",
      "• Biết VBA macro/Python là một lợi thế.\n",
      "• Kỹ năng giao tiếp, tương tác, phối hợp và thuyết phục tốt.\n",
      "• Mong muốn học hỏi những kỹ năng mới và áp dụng nó vào thực tế ngành tài chính tiêu dùng.\n",
      "• Nắm bắt tốt Microsoft Office.\n",
      "• Người tiếp thu nhanh.\n",
      "• Tư duy logic / phân tích, phong cách làm việc có cấu trúc và hệ thống, chú ý đến chi tiết.\n",
      "• Giao tiếp tốt với tinh thần trách nhiệm cao, kiên trì, năng động và trung thực\n",
      "\n",
      "Quyền lợi\n",
      "• Tổng thu nhập 15-17 tháng/năm\n",
      "• Thưởng dự án và thưởng cuối năm cao\n",
      "• Môi trường làm việc sáng tạo, hiện đại, quản lý theo tiến độ và hiệu quả công việc, giờ làm việc linh hoạt\n",
      "• Đội ngũ lãnh đạo thân thiện, hòa đồng, quan tâm đến sự phát triển của các cá nhân\n",
      "• Nhân viên được đào đạo tận tình các kĩ năng mềm và nghiệp vụ chuyên sâu\n",
      "• Không khí vui vẻ, đồng nghiệp trẻ trung, năng động\n",
      "• Nhiều hoạt động tập thể lý thú và ý nghĩa: bóng đá, karaoke, đi phượt, du lịch, từ thiện hàng năm\n",
      "• Trợ cấp thai sản cho nhân viên nữ\n",
      "• Tổ chức khám sức khỏe tổng quát định kỳ hàng năm, mua thêm gói bảo hiểm sức khỏe cho nhân viên ngoài Bảo hiểm y tế.\n",
      "\n",
      "\n",
      "Phương thức ứng tuyển:\n",
      "Link tải mẫu CV: https://www.mediafire.com/file/ny72qyrpkxclw2n/Form_CV_TPBank.DOC/file\n"
     ]
    }
   ],
   "source": [
    "JD = driver.find_element(By.CSS_SELECTOR,\"div.sc-4913d170-3.hOVYfk\").text\n",
    "print(JD)"
   ]
  },
  {
   "cell_type": "code",
   "execution_count": null,
   "metadata": {},
   "outputs": [],
   "source": [
    "# bấm vào nút chọn ngành công nghệ thông tin \n",
    "\n",
    "major_btn = driver.find_element(By.CSS_SELECTOR,'span.sc-inyXkq.vrMDF')\n",
    "print(1)\n",
    "actions.move_to_element(major_btn).click(major_btn).perform()\n",
    "\n",
    "time.sleep(2)\n",
    "\n",
    "major_element = driver.find_elements(By.CSS_SELECTOR,'div.sc-dUOoGL.GLPPf')[5]\n",
    "print(2)\n",
    "actions.move_to_element(major_element).click(major_element).perform()\n",
    "\n",
    "time.sleep(2)\n",
    "\n",
    "right_dropbox = driver.find_element(By.CSS_SELECTOR,\"div.sc-dovdUy.fgCUqA\")\n",
    "print(3)\n",
    "# print(f'right_dropbox :{right_dropbox}')\n",
    "list_data_majors = right_dropbox.find_elements(By.CSS_SELECTOR,\"div.sc-dUOoGL.cXyXNL\")\n",
    "print(4)\n",
    "# print(f'list_data_majors :{list_data_majors} ')\n",
    "\n",
    "# list wrong_majort lấy trong  list_data_majors  là ([0] [3] [5] [6] [13])\n",
    "wrong_major_indices = [1, 4, 6, 7, 14]\n",
    "wrong_majors = [list_data_majors[i] for i in wrong_major_indices]\n",
    "\n",
    "for major in wrong_majors: \n",
    "    time.sleep(1)\n",
    "    major_name = major.find_element(By.CSS_SELECTOR,\"span.sc-cMRZhK.eAsacu\").text\n",
    "    actions.move_to_element(major).perform()\n",
    "    time.sleep(2)\n",
    "    actions.click(major).perform()\n",
    "    print(f'đã click và bỏ ngành {major_name}')\n",
    "\n",
    "time.sleep(1)\n",
    "right_bar = driver.find_element(By.CSS_SELECTOR, \"div.right-bar\")\n",
    "\n",
    "# Di chuyển chuột đến vị trí trống trong 'right-bar', ví dụ -50px theo chiều dọc của phần tử\n",
    "actions.move_to_element_with_offset(right_bar, -100, 0).click().perform()"
   ]
  },
  {
   "cell_type": "markdown",
   "metadata": {},
   "source": [
    "# Hoàn thiện"
   ]
  },
  {
   "cell_type": "code",
   "execution_count": 1,
   "metadata": {},
   "outputs": [
    {
     "name": "stdout",
     "output_type": "stream",
     "text": [
      "Start the Log-in procedure\n"
     ]
    },
    {
     "name": "stderr",
     "output_type": "stream",
     "text": [
      "C:\\Users\\trand\\AppData\\Local\\Temp\\ipykernel_16724\\958638227.py:62: DeprecationWarning: executable_path has been deprecated, please pass in a Service object\n",
      "  driver = webdriver.Chrome(chrome_driver_path, options=options)\n"
     ]
    },
    {
     "name": "stdout",
     "output_type": "stream",
     "text": [
      "Thư mục attempt đã được tạo: C:\\working\\job_rcm\\data\\vietnamwork\\2025\\04\\02\\Attempt_11_43\n"
     ]
    }
   ],
   "source": [
    "import os\n",
    "import time\n",
    "import re\n",
    "import random\n",
    "import requests\n",
    "import random\n",
    "import json\n",
    "import pandas as pd\n",
    "import zipfile\n",
    "from datetime import datetime\n",
    "from selenium import webdriver\n",
    "from selenium.webdriver.common.by import By\n",
    "from selenium.webdriver.support.ui import WebDriverWait\n",
    "from selenium.webdriver.support import expected_conditions as EC\n",
    "from selenium.webdriver.chrome.options import Options\n",
    "from selenium.webdriver.common.keys import Keys\n",
    "from selenium.webdriver.common.action_chains import ActionChains\n",
    "import csv\n",
    "\n",
    "\n",
    "####################################\n",
    "# Login code #######################\n",
    "####################################\n",
    "\n",
    "print(\"Start the Log-in procedure\")\n",
    "\n",
    "### Các bước chuẩn bị\n",
    "def read_config(file_path):\n",
    "    config = {}\n",
    "    with open(file_path, 'r', encoding='utf-8') as f:\n",
    "        for line in f:\n",
    "            if '=' in line:\n",
    "                key, value = line.strip().split('=', 1)\n",
    "                config[key] = value\n",
    "    return config\n",
    "\n",
    "\n",
    "# ChromeDriver path\n",
    "chrome_driver_path = 'C:/Users/trand/chromedriver.exe'\n",
    "\n",
    "\n",
    "\n",
    "# Set up Chrome options\n",
    "options = Options()\n",
    "# options.add_argument(\"--disable-infobars\")\n",
    "prefs = {\"credentials_enable_service\": False,\n",
    "     \"profile.password_manager_enabled\": False}\n",
    "options.add_experimental_option(\"prefs\", prefs)\n",
    "options.add_argument(\"--disable-notifications\")\n",
    "options.add_experimental_option(\"excludeSwitches\", [\"enable-automation\"])\n",
    "options.add_experimental_option('useAutomationExtension', False)\n",
    "\n",
    "# Randomize User-Agent\n",
    "user_agents = [\n",
    "    'Mozilla/5.0 (Macintosh; Intel Mac OS X 10_15_7) AppleWebKit/537.36 (KHTML, like Gecko) Chrome/115.0.0.0 Safari/537.36',\n",
    "    'Mozilla/5.0 (Windows NT 10.0; Win64; x64) AppleWebKit/537.36 (KHTML, like Gecko) Chrome/114.0.0.0 Safari/537.36',\n",
    "    'Mozilla/5.0 (Windows NT 10.0; Win64; x64) AppleWebKit/537.36 (KHTML, like Gecko) Chrome/116.0.0.0 Safari/537.36',\n",
    "]\n",
    "options.add_argument(f\"user-agent={random.choice(user_agents)}\")\n",
    "\n",
    "# Launch browser\n",
    "driver = webdriver.Chrome(chrome_driver_path, options=options)\n",
    "driver.get(\"https://www.vietnamworks.com\")\n",
    "actions = ActionChains(driver)\n",
    "time.sleep(3)\n",
    "search_btn = driver.find_element(By.CSS_SELECTOR,\"button.sc-cspYLC.hYKSlj.btn-primary.btn-md.search__button.clickable\")\n",
    "actions.move_to_element(search_btn).click(search_btn).perform()\n",
    "\n",
    "\n",
    "\n",
    "##################################################\n",
    "# Create folder ##################################\n",
    "##################################################\n",
    "\n",
    "base_save_dir = r'C:\\working\\job_rcm\\data\\vietnamwork'\n",
    "list_info_all = os.path.join(base_save_dir, \"list_info_all.csv\")\n",
    "\n",
    "\n",
    "# Lấy thời gian hiện tại\n",
    "now = datetime.now()\n",
    "year = now.strftime(\"%Y\")\n",
    "month = now.strftime(\"%m\")\n",
    "day = now.strftime(\"%d\")\n",
    "attempt = now.strftime(\"Attempt_%H_%M\")\n",
    "\n",
    "# Xây dựng đường dẫn thư mục\n",
    "year_dir = os.path.join(base_save_dir, year)\n",
    "month_dir = os.path.join(year_dir, month)\n",
    "day_dir = os.path.join(month_dir, day)\n",
    "attempt_dir = os.path.join(day_dir, attempt)\n",
    "listview_dir = os.path.join(attempt_dir, \"Listview\")\n",
    "detailview_dir = os.path.join(attempt_dir, \"Detailview\")\n",
    "html_dir = os.path.join(listview_dir, \"HTML\")\n",
    "# keyword_dir = os.path.join(html_dir, \"Keywords\")\n",
    "\n",
    "# Tạo thư mục nếu chưa tồn tại\n",
    "for directory in [year_dir, month_dir, day_dir, attempt_dir, listview_dir, detailview_dir, html_dir]:\n",
    "    os.makedirs(directory, exist_ok=True)\n",
    "\n",
    "print(f\"Thư mục attempt đã được tạo: {attempt_dir}\")"
   ]
  },
  {
   "cell_type": "markdown",
   "metadata": {},
   "source": [
    "## LISTVIEW"
   ]
  },
  {
   "cell_type": "code",
   "execution_count": 5,
   "metadata": {},
   "outputs": [
    {
     "name": "stdout",
     "output_type": "stream",
     "text": [
      "Start the listview scrape procedure\n"
     ]
    }
   ],
   "source": [
    "print(\"Start the listview scrape procedure\")\n",
    "\n",
    "json_file_path = os.path.join(listview_dir, \"data.json\")\n",
    "list_info_attempt_path = os.path.join(attempt_dir, \"list_info_attempt.csv\")\n",
    "list_info_done_path = os.path.join(attempt_dir, \"list_info_done.csv\")\n",
    "detailview_attempt_path = os.path.join(attempt_dir, \"detailview_attempt.csv\")\n",
    "\n",
    "\n",
    "# Đảm bảo file JSON tồn tại\n",
    "json_file_path = os.path.join(listview_dir, \"data.json\")\n",
    "if not os.path.exists(json_file_path):\n",
    "    with open(json_file_path, \"w\", encoding=\"utf-8\") as f:\n",
    "        json.dump({}, f, indent=4, ensure_ascii=False)\n",
    "\n",
    "# Nếu CSV chưa có, tạo file với tiêu đề cột\n",
    "if not os.path.exists(list_info_attempt_path):\n",
    "    with open(list_info_attempt_path, \"w\", newline=\"\", encoding=\"utf-8\") as f:\n",
    "        writer = csv.writer(f)\n",
    "        writer.writerow([\"page\", \"job_index\", \"job_link\"])  # Tiêu đề cột\n",
    "\n",
    "# Nếu CSV chưa có, tạo file với tiêu đề cột\n",
    "if not os.path.exists(list_info_done_path):\n",
    "    with open(list_info_done_path, \"w\", newline=\"\", encoding=\"utf-8\") as f:\n",
    "        writer = csv.writer(f)\n",
    "        writer.writerow([\"job_link\"])  # Tiêu đề cột\n",
    "\n",
    "# Nếu CSV chưa có, tạo file với tiêu đề cột\n",
    "if not os.path.exists(detailview_attempt_path):\n",
    "    with open(detailview_attempt_path, \"w\", newline=\"\", encoding=\"utf-8\") as f:\n",
    "        writer = csv.writer(f)\n",
    "        writer.writerow([\"job_link\", \"job_name\", \"job_status\", \"region\", \"company_name\", \"company_href\", \"scrape_date\", \"hr_id\", \"jd\"])  # Tiêu đề cột\n",
    "\n"
   ]
  },
  {
   "cell_type": "code",
   "execution_count": 6,
   "metadata": {},
   "outputs": [],
   "source": [
    "def get_job_links(page, keyword):\n",
    "    job_board = driver.find_element(By.CSS_SELECTOR, \"div.block-job-list\")\n",
    "    current_job_elements = job_board.find_elements(By.CSS_SELECTOR, \"div.sc-iVDsrp.frxvCT\")\n",
    "    job_elements = set(current_job_elements)  # Sử dụng set để tránh trùng lặp công việc\n",
    "\n",
    "    # Đọc dữ liệu JSON hiện có\n",
    "    with open(json_file_path, \"r\", encoding=\"utf-8\") as f:\n",
    "        data = json.load(f)\n",
    "\n",
    "    # Đảm bảo từ khóa có trong JSON\n",
    "    if keyword not in data:\n",
    "        data[keyword] = {}\n",
    "\n",
    "    # Đảm bảo trang hiện tại có trong JSON\n",
    "    if f\"page {page}\" not in data[keyword]:\n",
    "        data[keyword][f\"page {page}\"] = {\n",
    "            \"path_to_html\": os.path.join(html_dir, f\"{keyword.replace(' ', '_')}_page{page}_HTML.txt\"),\n",
    "            \"jobs\": {}\n",
    "        }\n",
    "\n",
    "    # Mở tệp CSV để ghi dữ liệu\n",
    "    with open(list_info_attempt_path, \"a\", newline=\"\", encoding=\"utf-8\") as f:\n",
    "        writer = csv.writer(f)\n",
    "\n",
    "        while True:\n",
    "            # Di chuyển đến các phần tử công việc mới\n",
    "            for job in current_job_elements:\n",
    "                actions.move_to_element(job).perform()\n",
    "\n",
    "            # Cập nhật danh sách các công việc sau khi đã di chuyển đến các phần tử mới\n",
    "            current_job_elements = job_board.find_elements(By.CSS_SELECTOR, \"div.sc-iVDsrp.frxvCT\")\n",
    "            new_jobs = set(current_job_elements) - job_elements  # Lấy các công việc mới\n",
    "            job_elements.update(new_jobs)  # Cập nhật job_elements với các công việc mới\n",
    "\n",
    "            # Dừng lại nếu không còn công việc mới\n",
    "            if not new_jobs:\n",
    "                break\n",
    "\n",
    "        # Thông báo số lượng công việc khi đã thu thập xong\n",
    "        print(f\"Từ khóa '{keyword}' - Trang {page} có {len(job_elements)} công việc.\")\n",
    "\n",
    "        # Duyệt qua danh sách công việc và lấy link\n",
    "        for idx, job in enumerate(job_elements, start=1):\n",
    "            try:\n",
    "                job_href = job.find_element(By.CSS_SELECTOR, \"a.img_job_card\").get_attribute(\"href\")\n",
    "                data[keyword][f\"page {page}\"][\"jobs\"][f\"job_{idx}\"] = {\"link_job\": job_href}\n",
    "\n",
    "                # Ghi vào CSV\n",
    "                writer.writerow([page, idx, job_href])\n",
    "            except Exception as e:\n",
    "                print(f\"Lỗi khi lấy link công việc {idx} trên trang {page}\")\n",
    "\n",
    "    # Lưu lại dữ liệu vào JSON\n",
    "    with open(json_file_path, \"w\", encoding=\"utf-8\") as f:\n",
    "        json.dump(data, f, indent=4, ensure_ascii=False)\n"
   ]
  },
  {
   "cell_type": "code",
   "execution_count": 7,
   "metadata": {},
   "outputs": [],
   "source": [
    "def page_switch(n,keyword):\n",
    "    for page in range(1, n + 1):\n",
    "        # Lấy nội dung HTML của trang hiện tại\n",
    "        html_content = driver.page_source\n",
    "        keyword_dir = os.path.join(html_dir,f\"{keyword.replace(' ', '_')}\")\n",
    "        os.makedirs(keyword_dir, exist_ok=True)\n",
    "        html_file_path = os.path.join(keyword_dir, f\"page{page}_HTML.txt\")\n",
    "\n",
    "        # Lưu HTML vào file\n",
    "        with open(html_file_path, \"w\", encoding=\"utf-8\") as f:\n",
    "            f.write(html_content)\n",
    "\n",
    "        print(f\"Đã lưu HTML của trang {page} vào {html_file_path}\")\n",
    "\n",
    "        # Gọi hàm lấy danh sách công việc\n",
    "        get_job_links(page,keyword)\n",
    "\n",
    "        # Chuyển sang trang tiếp theo nếu không phải trang cuối\n",
    "        if page < n:\n",
    "            xpath_selector  = f\"//li[@class='page-item btn-default']/button[text()='{page + 1}']\"\n",
    "            try:\n",
    "                page_button = driver.find_element(By.XPATH, xpath_selector)\n",
    "                actions.move_to_element(page_button).perform()\n",
    "                time.sleep(1)\n",
    "                actions.click(page_button).perform()\n",
    "                print(f\"Đang chuyển sang trang {page + 1}\")\n",
    "                time.sleep(2)  # Chờ trang tải xong\n",
    "            except Exception as e:\n",
    "                print(f\"Lỗi khi chuyển trang {page + 1}\")\n",
    "                break  # Thoát nếu không thể chuyển trang\n"
   ]
  },
  {
   "cell_type": "code",
   "execution_count": 12,
   "metadata": {},
   "outputs": [
    {
     "name": "stdout",
     "output_type": "stream",
     "text": [
      "Đang tìm kiếm công việc với từ khóa: sql\n",
      "Đã lưu HTML của trang 1 vào C:\\working\\job_rcm\\data\\vietnamwork\\2025\\03\\29\\Attempt_13_33\\Listview\\HTML\\sql\\page1_HTML.txt\n",
      "Từ khóa 'sql' - Trang 1 có 50 công việc.\n",
      "Đã hoàn thành tìm kiếm công việc với từ khóa: sql \n",
      "\n",
      "\n",
      "\n",
      "\n",
      "Đang tìm kiếm công việc với từ khóa: python\n",
      "Đã lưu HTML của trang 1 vào C:\\working\\job_rcm\\data\\vietnamwork\\2025\\03\\29\\Attempt_13_33\\Listview\\HTML\\python\\page1_HTML.txt\n",
      "Từ khóa 'python' - Trang 1 có 50 công việc.\n",
      "Đã hoàn thành tìm kiếm công việc với từ khóa: python \n",
      "\n",
      "\n",
      "\n",
      "\n",
      "Đang tìm kiếm công việc với từ khóa: java\n",
      "Đã lưu HTML của trang 1 vào C:\\working\\job_rcm\\data\\vietnamwork\\2025\\03\\29\\Attempt_13_33\\Listview\\HTML\\java\\page1_HTML.txt\n",
      "Từ khóa 'java' - Trang 1 có 50 công việc.\n",
      "Đã hoàn thành tìm kiếm công việc với từ khóa: java \n",
      "\n",
      "\n",
      "\n",
      "\n",
      "Đang tìm kiếm công việc với từ khóa: c++\n",
      "Đã lưu HTML của trang 1 vào C:\\working\\job_rcm\\data\\vietnamwork\\2025\\03\\29\\Attempt_13_33\\Listview\\HTML\\c++\\page1_HTML.txt\n",
      "Từ khóa 'c++' - Trang 1 có 50 công việc.\n",
      "Đã hoàn thành tìm kiếm công việc với từ khóa: c++ \n",
      "\n",
      "\n",
      "\n",
      "\n",
      "Đang tìm kiếm công việc với từ khóa: c#\n",
      "Đã lưu HTML của trang 1 vào C:\\working\\job_rcm\\data\\vietnamwork\\2025\\03\\29\\Attempt_13_33\\Listview\\HTML\\c#\\page1_HTML.txt\n",
      "Từ khóa 'c#' - Trang 1 có 50 công việc.\n",
      "Đã hoàn thành tìm kiếm công việc với từ khóa: c# \n",
      "\n",
      "\n",
      "\n",
      "\n"
     ]
    }
   ],
   "source": [
    "keyword_list_path = r'C:\\working\\job_rcm\\data\\vietnamwork\\job_keywords.csv' # gọi ra các keyword từ file này\n",
    "df_keywords = pd.read_csv(keyword_list_path, header=None, names=[\"keyword\"])\n",
    "\n",
    "for word in df_keywords[\"keyword\"]:\n",
    "    # Format the URL with the keyword\n",
    "    url = f\"https://www.vietnamworks.com/viec-lam?q={word}\"\n",
    "    \n",
    "    # Navigate directly to the search results page\n",
    "    driver.get(url)\n",
    "    time.sleep(5)\n",
    "    \n",
    "    print(f'Đang tìm kiếm công việc với từ khóa: {word}')\n",
    "    page_switch(1, word)\n",
    "    print(f\"Đã hoàn thành tìm kiếm công việc với từ khóa: {word} \\n\\n\\n\\n\")"
   ]
  },
  {
   "cell_type": "code",
   "execution_count": 47,
   "metadata": {},
   "outputs": [],
   "source": [
    "search_box = driver.find_element(By.CSS_SELECTOR,\"input.sc-cVrUCI.hulogh.class-input-recommend\")\n",
    "actions.move_to_element(search_box).perform()\n",
    "time.sleep(1)\n",
    "search_box.clear()"
   ]
  },
  {
   "cell_type": "code",
   "execution_count": 48,
   "metadata": {},
   "outputs": [],
   "source": [
    "search_box.clear()"
   ]
  },
  {
   "cell_type": "markdown",
   "metadata": {},
   "source": [
    "## DETAILVIEW"
   ]
  },
  {
   "cell_type": "code",
   "execution_count": 2,
   "metadata": {},
   "outputs": [
    {
     "name": "stdout",
     "output_type": "stream",
     "text": [
      "Start the Log-in procedure\n"
     ]
    },
    {
     "name": "stderr",
     "output_type": "stream",
     "text": [
      "C:\\Users\\trand\\AppData\\Local\\Temp\\ipykernel_16724\\3166722911.py:62: DeprecationWarning: executable_path has been deprecated, please pass in a Service object\n",
      "  driver = webdriver.Chrome(chrome_driver_path, options=options)\n"
     ]
    }
   ],
   "source": [
    "import os\n",
    "import time\n",
    "import re\n",
    "import random\n",
    "import requests\n",
    "import random\n",
    "import json\n",
    "import pandas as pd\n",
    "import zipfile\n",
    "from datetime import datetime\n",
    "from selenium import webdriver\n",
    "from selenium.webdriver.common.by import By\n",
    "from selenium.webdriver.support.ui import WebDriverWait\n",
    "from selenium.webdriver.support import expected_conditions as EC\n",
    "from selenium.webdriver.chrome.options import Options\n",
    "from selenium.webdriver.common.keys import Keys\n",
    "from selenium.webdriver.common.action_chains import ActionChains\n",
    "import csv\n",
    "\n",
    "\n",
    "####################################\n",
    "# Login code #######################\n",
    "####################################\n",
    "\n",
    "print(\"Start the Log-in procedure\")\n",
    "\n",
    "### Các bước chuẩn bị\n",
    "def read_config(file_path):\n",
    "    config = {}\n",
    "    with open(file_path, 'r', encoding='utf-8') as f:\n",
    "        for line in f:\n",
    "            if '=' in line:\n",
    "                key, value = line.strip().split('=', 1)\n",
    "                config[key] = value\n",
    "    return config\n",
    "\n",
    "\n",
    "# ChromeDriver path\n",
    "chrome_driver_path = 'C:/Users/trand/chromedriver.exe'\n",
    "\n",
    "\n",
    "\n",
    "# Set up Chrome options\n",
    "options = Options()\n",
    "# options.add_argument(\"--disable-infobars\")\n",
    "prefs = {\"credentials_enable_service\": False,\n",
    "     \"profile.password_manager_enabled\": False}\n",
    "options.add_experimental_option(\"prefs\", prefs)\n",
    "options.add_argument(\"--disable-notifications\")\n",
    "options.add_experimental_option(\"excludeSwitches\", [\"enable-automation\"])\n",
    "options.add_experimental_option('useAutomationExtension', False)\n",
    "\n",
    "# Randomize User-Agent\n",
    "user_agents = [\n",
    "    'Mozilla/5.0 (Macintosh; Intel Mac OS X 10_15_7) AppleWebKit/537.36 (KHTML, like Gecko) Chrome/115.0.0.0 Safari/537.36',\n",
    "    'Mozilla/5.0 (Windows NT 10.0; Win64; x64) AppleWebKit/537.36 (KHTML, like Gecko) Chrome/114.0.0.0 Safari/537.36',\n",
    "    'Mozilla/5.0 (Windows NT 10.0; Win64; x64) AppleWebKit/537.36 (KHTML, like Gecko) Chrome/116.0.0.0 Safari/537.36',\n",
    "]\n",
    "options.add_argument(f\"user-agent={random.choice(user_agents)}\")\n",
    "\n",
    "# Launch browser\n",
    "driver = webdriver.Chrome(chrome_driver_path, options=options)\n",
    "driver.get(\"https://www.vietnamworks.com\")\n",
    "actions = ActionChains(driver)\n",
    "time.sleep(3)\n",
    "search_btn = driver.find_element(By.CSS_SELECTOR,\"button.sc-cspYLC.hYKSlj.btn-primary.btn-md.search__button.clickable\")\n",
    "actions.move_to_element(search_btn).click(search_btn).perform()"
   ]
  },
  {
   "cell_type": "code",
   "execution_count": 3,
   "metadata": {},
   "outputs": [],
   "source": [
    "link = r'https://www.vietnamworks.com/chuyen-vien-phat-trien-phan-mem-it--1877611-jv?source=searchResults&searchType=2&placement=1877611&sortBy=date'\n",
    "\n",
    "try:\t\n",
    "\t\tdriver.execute_script(f\"window.open('{link}', '_blank');\")\n",
    "\t\ttime.sleep(2)  # Chờ tab mới load (có thể điều chỉnh)\n",
    "except:\n",
    "\t\tprint(\"Không thể mở tab mới!\")"
   ]
  },
  {
   "cell_type": "code",
   "execution_count": 4,
   "metadata": {},
   "outputs": [],
   "source": [
    "driver.switch_to.window(driver.window_handles[-1])"
   ]
  },
  {
   "cell_type": "markdown",
   "metadata": {},
   "source": [
    "#### thành phần\n"
   ]
  },
  {
   "cell_type": "code",
   "execution_count": null,
   "metadata": {},
   "outputs": [],
   "source": [
    "job_data = {\n",
    "\t\"job_link\" : ,\n",
    "\t\"company_name\":,\n",
    "\t\"company_href\":,\n",
    "\t\"job_name\": ,\n",
    "  \"salary\": ,\n",
    "\t\"region\": ,\n",
    "\t\"job_status\":,\n",
    "\t\"scrape_date\":,\n",
    "\t\"hr_id\":,\n",
    "\t\"jd\":,\n",
    "}"
   ]
  },
  {
   "cell_type": "code",
   "execution_count": 5,
   "metadata": {},
   "outputs": [
    {
     "name": "stdout",
     "output_type": "stream",
     "text": [
      "Chuyên Viên Phát Triển Phần Mềm IT\n"
     ]
    }
   ],
   "source": [
    "job_name = driver.find_element(By.CSS_SELECTOR,'h1.sc-ab270149-0.hAejeW').text\n",
    "print(job_name)"
   ]
  },
  {
   "cell_type": "code",
   "execution_count": 9,
   "metadata": {},
   "outputs": [
    {
     "name": "stdout",
     "output_type": "stream",
     "text": [
      "Hết hạn trong 1 ngày\n"
     ]
    }
   ],
   "source": [
    "job_status = driver.find_elements(By.CSS_SELECTOR,'span.sc-ab270149-0.ePOHWr')[0].text\n",
    "print(job_status)"
   ]
  },
  {
   "cell_type": "code",
   "execution_count": 6,
   "metadata": {},
   "outputs": [
    {
     "name": "stdout",
     "output_type": "stream",
     "text": [
      "Ngân Hàng Thương Mại Cổ Phần Bảo Việt\n"
     ]
    }
   ],
   "source": [
    "company_name = driver.find_element(By.CSS_SELECTOR,'a.sc-ab270149-0.egZKeY.sc-f0821106-0.gWSkfE').text\n",
    "print(company_name)"
   ]
  },
  {
   "cell_type": "code",
   "execution_count": 7,
   "metadata": {},
   "outputs": [
    {
     "name": "stdout",
     "output_type": "stream",
     "text": [
      "https://www.vietnamworks.com/nha-tuyen-dung/ngan-hang-thuong-mai-co-phan-bao-viet-c142517?fromPage=jobDetail\n"
     ]
    }
   ],
   "source": [
    "company_href = driver.find_element(By.CSS_SELECTOR,'a.sc-ab270149-0.egZKeY.sc-f0821106-0.gWSkfE').get_attribute(\"href\")\n",
    "print(company_href)"
   ]
  },
  {
   "cell_type": "code",
   "execution_count": 8,
   "metadata": {},
   "outputs": [
    {
     "name": "stdout",
     "output_type": "stream",
     "text": [
      "Thương lượng\n"
     ]
    }
   ],
   "source": [
    "salary = driver.find_elements(By.CSS_SELECTOR,'span.sc-ab270149-0.cVbwLK')[0].text\n",
    "print(salary)"
   ]
  },
  {
   "cell_type": "code",
   "execution_count": 10,
   "metadata": {},
   "outputs": [
    {
     "name": "stdout",
     "output_type": "stream",
     "text": [
      "Hà Nội\n"
     ]
    }
   ],
   "source": [
    "region = driver.find_element(By.CSS_SELECTOR,'div.sc-2557ebc-1.ebdjLi span').text\n",
    "print(region)"
   ]
  },
  {
   "cell_type": "code",
   "execution_count": 11,
   "metadata": {},
   "outputs": [
    {
     "name": "stdout",
     "output_type": "stream",
     "text": [
      "Đã tìm thấy nút xem thêm\n",
      "Đã click vào nút xem thêm\n"
     ]
    }
   ],
   "source": [
    "try:\n",
    "\t\tsee_more_button = driver.find_element(By.CSS_SELECTOR,\"button.sc-bd699a4b-0.kBdTlY.btn-info.btn-md.sc-1671001a-2.galMaY.clickable\")\n",
    "\t\tprint(\"Đã tìm thấy nút xem thêm\")\n",
    "\t\tActionChains(driver).move_to_element(see_more_button).click(see_more_button).perform()\n",
    "\t\tprint(\"Đã click vào nút xem thêm\")\n",
    "\t\ttime.sleep(1)\n",
    "except:\n",
    "\t\tprint(\"Không thể click vào nút xem thêm\")"
   ]
  },
  {
   "cell_type": "code",
   "execution_count": 15,
   "metadata": {},
   "outputs": [
    {
     "name": "stdout",
     "output_type": "stream",
     "text": [
      "Mô tả công việc\n",
      "Mã số: 2025\n",
      "Đơn vị cần tuyển: Trung tâm Công nghệ Thông tin\n",
      "Thời hạn tuyển dụng: 30/04/2025\n",
      "Địa điểm: Hội sở (Hà Nội)\n",
      "\n",
      "Thực hiện các yêu cầu phát triển mới/chỉnh sửa hệ thống Corebanking T24; hệ thống thẻ Way4; Các hệ thống kênh giao tiếp điện tử: Internet Banking, Mobile Banking, SMS banking, Payment Gateway, E-Commerce ... ; Các hệ thống hỗ trợ MIS, FTP …\n",
      "- Tham gia nghiên cứu, thử nghiệm và nâng cấp hệ thống Core Banking, Hệ thống thẻ, DataWarehouse...\n",
      "- Tìm hiểu các giải pháp Công nghệ trong lĩnh vực ngân hàng, nghiên cứu khả năng ứng dụng vào hoạt động của BAOVIET Bank\n",
      "- Tiếp nhận chuyển giao, đào tạo công nghệ từ các đối tác.\n",
      "- Thực hiện những nhiệm vụ và trách nhiệm khác do Lãnh đạo có thẩm quyền phân công.\n",
      "- Tuân thủ Nội quy lao động của Ngân hàng.\n",
      "Yêu cầu công việc\n",
      "Điều kiện dự tuyển:\n",
      "- Tốt nghiệp Đại học ngành đào tạo Công nghệ Thông tin hoặc Toán tin ứng dụng hoặc Điện tử viễn thông.\n",
      "- Có khả năng lập trình tốt với ít nhất một trong những ngôn ngữ sau: Java, C#, Info Basic (jBase)\n",
      "- Có hiểu biết cơ bản ít nhất một trong những cơ sở dữ liệu sau: Oracle, SQL Server, jBase\n",
      "- Hiểu biết cơ bản ít nhất một trong những hệ điều hành sau: Windows, Unix, Linux.\n",
      "- Hiểu biết về ISO message 8583, NDC++, Diebold912, EMV, ATM, POS, NAC/NCC, HSM là một lợi thế.\n",
      "- Có hiểu biết về một trong những kiến thức sau là một lợi thế, bao gồm: Kiến trúc hướng đối tượng (SOA), Lập trình hướng đối tượng (OOP), Phân tích thiết kế hướng đối tượng (OOAD); DataWarehouse, Business Intelligence (BI).\n",
      "\n",
      "Quyền lợi\n",
      "- Chế độ bảo hiểm\n",
      "- Du Lịch\n",
      "- Phụ cấp\n",
      "- Đồng phục\n",
      "- Chế độ thưởng\n",
      "- Chăm sóc sức khỏe\n",
      "- Đào tạo\n",
      "- Tăng lương\n",
      "- Công tác phí\n",
      "- Nghỉ phép năm\n"
     ]
    }
   ],
   "source": [
    "jd = driver.find_element(By.CSS_SELECTOR,'div.sc-1671001a-3.hmvhgA').text\n",
    "print(jd)"
   ]
  },
  {
   "cell_type": "markdown",
   "metadata": {},
   "source": [
    "### code mới"
   ]
  },
  {
   "cell_type": "code",
   "execution_count": 3,
   "metadata": {},
   "outputs": [],
   "source": [
    "import re"
   ]
  },
  {
   "cell_type": "code",
   "execution_count": 1,
   "metadata": {},
   "outputs": [],
   "source": [
    "def get_job_id(job_link):\n",
    "    match = re.search(r'(\\d+)-jv', job_link)\n",
    "    if match:\n",
    "        return match.group(1)  # Lấy số job_id\n",
    "    return None"
   ]
  },
  {
   "cell_type": "code",
   "execution_count": 4,
   "metadata": {},
   "outputs": [
    {
     "data": {
      "text/plain": [
       "'1877611'"
      ]
     },
     "execution_count": 4,
     "metadata": {},
     "output_type": "execute_result"
    }
   ],
   "source": [
    "get_job_id('https://www.vietnamworks.com/chuyen-vien-phat-trien-phan-mem-it--1877611-jv?source=searchResults&searchType=2&placement=1877611&sortBy=date')"
   ]
  },
  {
   "cell_type": "code",
   "execution_count": 10,
   "metadata": {},
   "outputs": [],
   "source": [
    "list_info_attempt_path =r'C:\\working\\job_rcm\\data\\vietnamwork\\2025\\03\\29\\Attempt_13_33\\list_info_attempt.csv'\n",
    "list_info_attempt = pd.read_csv(list_info_attempt_path)"
   ]
  },
  {
   "cell_type": "code",
   "execution_count": 13,
   "metadata": {},
   "outputs": [
    {
     "name": "stdout",
     "output_type": "stream",
     "text": [
      "Start the comparing procedure\n",
      "Đã lưu danh sách mới vào C:\\working\\job_rcm\\data\\vietnamwork\\2025\\03\\29\\Attempt_13_33\\list_info_add.csv\n"
     ]
    }
   ],
   "source": [
    "attempt_dir = r'C:\\working\\job_rcm\\data\\vietnamwork\\2025\\03\\29\\Attempt_13_33'\n",
    "\n",
    "print(\"Start the comparing procedure\")\n",
    "\n",
    "list_info_all_path = r'C:\\working\\job_rcm\\data\\vietnamwork\\list_info_all.csv'\n",
    "list_info_attempt = pd.read_csv(list_info_attempt_path)\n",
    "list_info_all = pd.read_csv(list_info_all_path)\n",
    "\n",
    "# Chuyển cột job_link thành tập hợp để tăng hiệu suất so sánh\n",
    "job_links_all = set(list_info_all['job_link'])\n",
    "\n",
    "# Lọc ra các dòng chỉ có trong list_info_attempt nhưng không có trong list_info_all\n",
    "list_info_add = list_info_attempt[~list_info_attempt['job_link'].isin(job_links_all)]\n",
    "list_info_add_path = os.path.join(attempt_dir, \"list_info_add.csv\")\n",
    "\n",
    "# Lưu kết quả vào file list_info_add.csv\n",
    "list_info_add.to_csv(list_info_add_path, index=False)\n",
    "print(f\"Đã lưu danh sách mới vào {list_info_add_path}\")"
   ]
  },
  {
   "cell_type": "code",
   "execution_count": 17,
   "metadata": {},
   "outputs": [],
   "source": [
    "link = 'https://www.vietnamworks.com/chuyen-vien-phat-trien-phan-mem-it--1877611-jv?source=searchResults&searchType=2&placement=1877611&sortBy=date'"
   ]
  },
  {
   "cell_type": "code",
   "execution_count": 18,
   "metadata": {},
   "outputs": [],
   "source": [
    "def detail_scraping(link):\n",
    "    print(f\"Đang xử lý link: {link}\")\n",
    "    time.sleep(2)\n",
    "    \n",
    "    # job name\n",
    "    print('job_name')\n",
    "    try:\n",
    "        time.sleep(2)\n",
    "        name = driver.find_element(By.CSS_SELECTOR,'h1.sc-ab270149-0.hAejeW').text\n",
    "    except:\n",
    "        print(f\"Lỗi khi lấy job_name\")\n",
    "        name = None\n",
    "    \n",
    "    # job status\n",
    "    print('job_status')\n",
    "    try:\n",
    "        time.sleep(2)\n",
    "        job_status = driver.find_elements(By.CSS_SELECTOR,'span.sc-ab270149-0.ePOHWr')[0].text\n",
    "    except:\n",
    "        job_status = \"None\"\n",
    "\n",
    "    \n",
    "    # company name and company href\n",
    "    print('company_name and company_href')\n",
    "    try:\n",
    "        time.sleep(2)\n",
    "        company_href = driver.find_element(By.CSS_SELECTOR,'a.sc-ab270149-0.egZKeY.sc-f0821106-0.gWSkfE').get_attribute(\"href\")\n",
    "        company_name = driver.find_element(By.CSS_SELECTOR,'a.sc-ab270149-0.egZKeY.sc-f0821106-0.gWSkfE').text\n",
    "    except:\n",
    "        print(f\"Lỗi khi lấy company_name and company_href\")\n",
    "        company_href = None\n",
    "        company_name = None\n",
    "    \n",
    "    # city region\n",
    "    try:\n",
    "        time.sleep(2)\n",
    "        city_region = driver.find_element(By.CSS_SELECTOR,'div.sc-2557ebc-1.ebdjLi span').text\n",
    "    except:\n",
    "        print(f\"Lỗi khi lấy city_region\")\n",
    "        city_region = None\n",
    "        \n",
    "    # salary\n",
    "    try:\n",
    "        salary = driver.find_elements(By.CSS_SELECTOR,'span.sc-ab270149-0.cVbwLK')[0].text\n",
    "    except:\n",
    "        print(f\"Lỗi khi lấy salary\")\n",
    "        salary = None\n",
    "    \n",
    "    # scrape date\n",
    "    scrape_date = datetime.now().isoformat()\n",
    "\n",
    "    # job description\n",
    "    try: \n",
    "        time.sleep(2)\n",
    "        see_more_button = driver.find_element(By.CSS_SELECTOR,\"button.sc-bd699a4b-0.kBdTlY.btn-info.btn-md.sc-1671001a-2.galMaY.clickable\")\n",
    "        print(\"Đã tìm thấy nút xem thêm\")\n",
    "        ActionChains(driver).move_to_element(see_more_button).click(see_more_button).perform()\n",
    "        print(\"Đã click vào nút xem thêm\")\n",
    "        time.sleep(1)\n",
    "        jd = driver.find_element(By.CSS_SELECTOR,'div.sc-1671001a-3.hmvhgA').text\n",
    "        \n",
    "    except:\n",
    "        print(\"Không thể click vào nút xem thêm\")\n",
    "        try:\n",
    "            jd = driver.find_element(By.CSS_SELECTOR,'div.sc-1671001a-3.hmvhgA').text\n",
    "        except:\n",
    "            print(f\"Lỗi khi lấy job description\")\n",
    "            jd = None\n",
    "\n",
    "    # job data\n",
    "    job_data = {\n",
    "        \"job\": {\n",
    "            \"company_name\": company_name,\n",
    "            \"company_href\": company_href,\n",
    "            \"job_name\": name,\n",
    "            \"region\": city_region,\n",
    "            \"job_status\": job_status,\n",
    "            \"salary\": salary,\n",
    "            \"scrape_date\": scrape_date,\n",
    "            \"jd\": jd\n",
    "        }\n",
    "    }\n",
    "    print(job_data)\n",
    "\n",
    "    list_info_all = pd.read_csv(list_info_all_path)\n",
    "    list_info_done = pd.read_csv(list_info_done_path)\n",
    "\n",
    "    # Thêm job_link vào list_info_all và list_info_done nếu chưa có\n",
    "    if link not in list_info_all['job_link'].values:\n",
    "        new_data_all = pd.DataFrame({\"job_link\": [link]})\n",
    "        list_info_all = pd.concat([list_info_all, new_data_all], ignore_index=True)\n",
    "\n",
    "    if link not in list_info_done['job_link'].values:\n",
    "        new_data_done = pd.DataFrame({\"job_link\": [link]})\n",
    "        list_info_done = pd.concat([list_info_done, new_data_done], ignore_index=True)\n",
    "\n",
    "    # Lưu lại vào CSV\n",
    "    list_info_all.to_csv(list_info_all_path, index=False)\n",
    "    list_info_done.to_csv(list_info_done_path, index=False)\n",
    "    print(f\"Đã thêm dữ liệu vào list_info_all và list_info_done cho job_link: {link}\")\n",
    "\n",
    "    #detailview_attempt_path\n",
    "    new_data = {\n",
    "        \"job_link\": link,\n",
    "        \"job_name\": job_data[\"job\"][\"job_name\"],\n",
    "        \"job_status\": job_data[\"job\"][\"job_status\"],\n",
    "        \"region\": job_data[\"job\"][\"region\"],\n",
    "        \"company_name\": job_data[\"job\"][\"company_name\"],\n",
    "        \"company_href\": job_data[\"job\"][\"company_href\"],\n",
    "        \"job_status\": job_data[\"job\"][\"job_status\"],\n",
    "        \"scrape_date\": job_data[\"job\"][\"scrape_date\"],\n",
    "        \"jd\": job_data[\"job\"][\"jd\"]\n",
    "    }\n",
    "    detailview_attempt = pd.read_csv(detailview_attempt_path)\n",
    "    detailview_attempt = pd.concat([detailview_attempt, pd.DataFrame([new_data])], ignore_index=True)\n",
    "    detailview_attempt.to_csv(detailview_attempt_path, index=False)\n",
    "\n",
    "    job_id = get_job_id(link)\n",
    "    \n",
    "    timestamp = time.strftime(\"%Y%m%d_%H%M%S\")\n",
    "    job_folder = os.path.join(detailview_dir, f\"{job_id}_{timestamp}\")\n",
    "    os.makedirs(job_folder, exist_ok=True)\n",
    "\n",
    "    html_file_path = os.path.join(job_folder, \"page_source.html\")\n",
    "    with open(html_file_path, \"w\", encoding=\"utf-8\") as html_file:\n",
    "        html_file.write(driver.page_source)\n",
    "\n",
    "    json_file_path = os.path.join(job_folder, \"data.json\")\n",
    "    with open(json_file_path, \"w\", encoding=\"utf-8\") as json_file:\n",
    "        json.dump(job_data, json_file, indent=4, ensure_ascii=False)\n",
    "\n",
    "    print(f\"Đã lưu dữ liệu cho {job_id} vào {job_folder}\")\n",
    "    print(json.dumps(job_data, indent=4, ensure_ascii=False))"
   ]
  },
  {
   "cell_type": "code",
   "execution_count": 20,
   "metadata": {},
   "outputs": [
    {
     "name": "stdout",
     "output_type": "stream",
     "text": [
      "Đang xử lý link: https://www.vietnamworks.com/chuyen-vien-phat-trien-phan-mem-it--1877611-jv?source=searchResults&searchType=2&placement=1877611&sortBy=date\n",
      "job_name\n",
      "job_status\n",
      "company_name and company_href\n",
      "Đã tìm thấy nút xem thêm\n",
      "Đã click vào nút xem thêm\n",
      "{'job': {'company_name': 'Ngân Hàng Thương Mại Cổ Phần Bảo Việt', 'company_href': 'https://www.vietnamworks.com/nha-tuyen-dung/ngan-hang-thuong-mai-co-phan-bao-viet-c142517?fromPage=jobDetail', 'job_name': 'Chuyên Viên Phát Triển Phần Mềm IT', 'region': 'Hà Nội', 'job_status': 'Hết hạn trong 1 ngày', 'salary': 'Thương lượng', 'scrape_date': '2025-04-02T12:05:11.010224', 'jd': 'Mô tả công việc\\nMã số: 2025\\nĐơn vị cần tuyển: Trung tâm Công nghệ Thông tin\\nThời hạn tuyển dụng: 30/04/2025\\nĐịa điểm: Hội sở (Hà Nội)\\n\\nThực hiện các yêu cầu phát triển mới/chỉnh sửa hệ thống Corebanking T24; hệ thống thẻ Way4; Các hệ thống kênh giao tiếp điện tử: Internet Banking, Mobile Banking, SMS banking, Payment Gateway, E-Commerce ... ; Các hệ thống hỗ trợ MIS, FTP …\\n- Tham gia nghiên cứu, thử nghiệm và nâng cấp hệ thống Core Banking, Hệ thống thẻ, DataWarehouse...\\n- Tìm hiểu các giải pháp Công nghệ trong lĩnh vực ngân hàng, nghiên cứu khả năng ứng dụng vào hoạt động của BAOVIET Bank\\n- Tiếp nhận chuyển giao, đào tạo công nghệ từ các đối tác.\\n- Thực hiện những nhiệm vụ và trách nhiệm khác do Lãnh đạo có thẩm quyền phân công.\\n- Tuân thủ Nội quy lao động của Ngân hàng.\\nYêu cầu công việc\\nĐiều kiện dự tuyển:\\n- Tốt nghiệp Đại học ngành đào tạo Công nghệ Thông tin hoặc Toán tin ứng dụng hoặc Điện tử viễn thông.\\n- Có khả năng lập trình tốt với ít nhất một trong những ngôn ngữ sau: Java, C#, Info Basic (jBase)\\n- Có hiểu biết cơ bản ít nhất một trong những cơ sở dữ liệu sau: Oracle, SQL Server, jBase\\n- Hiểu biết cơ bản ít nhất một trong những hệ điều hành sau: Windows, Unix, Linux.\\n- Hiểu biết về ISO message 8583, NDC++, Diebold912, EMV, ATM, POS, NAC/NCC, HSM là một lợi thế.\\n- Có hiểu biết về một trong những kiến thức sau là một lợi thế, bao gồm: Kiến trúc hướng đối tượng (SOA), Lập trình hướng đối tượng (OOP), Phân tích thiết kế hướng đối tượng (OOAD); DataWarehouse, Business Intelligence (BI).\\n\\nQuyền lợi\\n- Chế độ bảo hiểm\\n- Du Lịch\\n- Phụ cấp\\n- Đồng phục\\n- Chế độ thưởng\\n- Chăm sóc sức khỏe\\n- Đào tạo\\n- Tăng lương\\n- Công tác phí\\n- Nghỉ phép năm'}}\n"
     ]
    },
    {
     "ename": "NameError",
     "evalue": "name 'list_info_all_path' is not defined",
     "output_type": "error",
     "traceback": [
      "\u001b[1;31m---------------------------------------------------------------------------\u001b[0m",
      "\u001b[1;31mNameError\u001b[0m                                 Traceback (most recent call last)",
      "Cell \u001b[1;32mIn[20], line 1\u001b[0m\n\u001b[1;32m----> 1\u001b[0m \u001b[43mdetail_scraping\u001b[49m\u001b[43m(\u001b[49m\u001b[43mlink\u001b[49m\u001b[43m)\u001b[49m\n",
      "Cell \u001b[1;32mIn[18], line 85\u001b[0m, in \u001b[0;36mdetail_scraping\u001b[1;34m(link)\u001b[0m\n\u001b[0;32m     71\u001b[0m job_data \u001b[38;5;241m=\u001b[39m {\n\u001b[0;32m     72\u001b[0m     \u001b[38;5;124m\"\u001b[39m\u001b[38;5;124mjob\u001b[39m\u001b[38;5;124m\"\u001b[39m: {\n\u001b[0;32m     73\u001b[0m         \u001b[38;5;124m\"\u001b[39m\u001b[38;5;124mcompany_name\u001b[39m\u001b[38;5;124m\"\u001b[39m: company_name,\n\u001b[1;32m   (...)\u001b[0m\n\u001b[0;32m     81\u001b[0m     }\n\u001b[0;32m     82\u001b[0m }\n\u001b[0;32m     83\u001b[0m \u001b[38;5;28mprint\u001b[39m(job_data)\n\u001b[1;32m---> 85\u001b[0m list_info_all \u001b[38;5;241m=\u001b[39m pd\u001b[38;5;241m.\u001b[39mread_csv(\u001b[43mlist_info_all_path\u001b[49m)\n\u001b[0;32m     86\u001b[0m list_info_done \u001b[38;5;241m=\u001b[39m pd\u001b[38;5;241m.\u001b[39mread_csv(list_info_done_path)\n\u001b[0;32m     88\u001b[0m \u001b[38;5;66;03m# Thêm job_link vào list_info_all và list_info_done nếu chưa có\u001b[39;00m\n",
      "\u001b[1;31mNameError\u001b[0m: name 'list_info_all_path' is not defined"
     ]
    }
   ],
   "source": [
    "detail_scraping(link)"
   ]
  },
  {
   "cell_type": "code",
   "execution_count": null,
   "metadata": {},
   "outputs": [],
   "source": [
    "list_info_add = pd.read_csv(list_info_attempt_path)\n",
    "\n",
    "for link in list_info_add['job_link']:\n",
    "\t\t# Mở tab mới\n",
    "\t\ttry:\t\n",
    "\t\t\t\tdriver.execute_script(f\"window.open('{link}', '_blank');\")\n",
    "\t\t\t\ttime.sleep(2)  # Chờ tab mới load (có thể điều chỉnh)\n",
    "\t\texcept:\n",
    "\t\t\t\tprint(\"Không thể mở tab mới!\")\n",
    "\t\t\t\tcontinue\n",
    "\n",
    "\t\t# Chuyển sang tab mới\n",
    "\t\tdriver.switch_to.window(driver.window_handles[-1])\n",
    "\t\tprint(f\"Đang vào: {link}\")\n",
    "\t\ttime.sleep(5)  # Chờ trang load (có thể điều chỉnh)\n",
    "\t\tdetail_scraping(link)\n",
    "\t\tprint('đã xử lý xong')\n",
    "\n",
    "\t\t# Kiểm tra số lượng tab, nếu > 1 thì đóng tab cũ\n",
    "\t\tif len(driver.window_handles) > 1:\n",
    "\t\t\t\t# time.sleep(10)\n",
    "\t\t\t\tdriver.close()  # Đóng tab hiện tại\n",
    "\t\t\t\tdriver.switch_to.window(driver.window_handles[0])  # Quay về tab chính\n",
    "                    \n",
    "# Đóng trình duyệt khi xong\n",
    "driver.quit()"
   ]
  }
 ],
 "metadata": {
  "kernelspec": {
   "display_name": "env",
   "language": "python",
   "name": "python3"
  },
  "language_info": {
   "codemirror_mode": {
    "name": "ipython",
    "version": 3
   },
   "file_extension": ".py",
   "mimetype": "text/x-python",
   "name": "python",
   "nbconvert_exporter": "python",
   "pygments_lexer": "ipython3",
   "version": "3.11.4"
  }
 },
 "nbformat": 4,
 "nbformat_minor": 2
}
