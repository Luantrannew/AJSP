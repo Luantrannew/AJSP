{
 "cells": [
  {
   "cell_type": "code",
   "execution_count": 1,
   "metadata": {},
   "outputs": [],
   "source": [
    "import os\n",
    "import time\n",
    "import re\n",
    "import random\n",
    "import requests\n",
    "import random\n",
    "import pandas as pd\n",
    "import zipfile\n",
    "from selenium import webdriver\n",
    "from selenium.webdriver.common.by import By\n",
    "from selenium.webdriver.support.ui import WebDriverWait\n",
    "from selenium.webdriver.chrome.service import Service\n",
    "from webdriver_manager.chrome import ChromeDriverManager\n",
    "from selenium.webdriver.support import expected_conditions as EC\n",
    "from selenium.webdriver.chrome.options import Options\n",
    "from selenium.webdriver.common.keys import Keys\n",
    "from selenium.webdriver.common.action_chains import ActionChains\n",
    "from selenium.common.exceptions import TimeoutException\n",
    "from bs4 import BeautifulSoup"
   ]
  },
  {
   "cell_type": "code",
   "execution_count": 2,
   "metadata": {},
   "outputs": [],
   "source": [
    "# Set up proxy\n",
    "PROXY_HOST = '146.19.196.60'\n",
    "PROXY_PORT = '40228'\n",
    "PROXY_USER = 'sq0ykRndlF'\n",
    "PROXY_PASS = 'lZmNUR7mE3'"
   ]
  },
  {
   "cell_type": "code",
   "execution_count": 10,
   "metadata": {},
   "outputs": [
    {
     "name": "stderr",
     "output_type": "stream",
     "text": [
      "C:\\Users\\trand\\AppData\\Local\\Temp\\ipykernel_13836\\3037017349.py:90: DeprecationWarning: executable_path has been deprecated, please pass in a Service object\n",
      "  driver = webdriver.Chrome(chrome_driver_path, options=options)\n"
     ]
    }
   ],
   "source": [
    "# ChromeDriver path\n",
    "chrome_driver_path = 'C:/Users/trand/chromedriver.exe'\n",
    "\n",
    "# Manifest for proxy\n",
    "manifest_json = \"\"\"\n",
    "{\n",
    "    \"version\": \"1.0.0\",\n",
    "    \"manifest_version\": 2,\n",
    "    \"name\": \"Chrome Proxy\",\n",
    "    \"permissions\": [\n",
    "        \"proxy\",\n",
    "        \"tabs\",\n",
    "        \"unlimitedStorage\",\n",
    "        \"storage\",\n",
    "        \"<all_urls>\",\n",
    "        \"webRequest\",\n",
    "        \"webRequestBlocking\"\n",
    "    ],\n",
    "    \"background\": {\n",
    "        \"scripts\": [\"background.js\"]\n",
    "    },\n",
    "    \"minimum_chrome_version\":\"22.0.0\"\n",
    "}\n",
    "\"\"\"\n",
    "\n",
    "# # Background script for proxy\n",
    "# background_js = \"\"\"\n",
    "# var config = {\n",
    "#         mode: \"fixed_servers\",\n",
    "#         rules: {\n",
    "#         singleProxy: {\n",
    "#             scheme: \"http\",\n",
    "#             host: \"%s\",\n",
    "#             port: parseInt(%s)\n",
    "#         },\n",
    "#         bypassList: [\"localhost\"]\n",
    "#         }\n",
    "#     };\n",
    "\n",
    "# chrome.proxy.settings.set({value: config, scope: \"regular\"}, function() {});\n",
    "\n",
    "# function callbackFn(details) {\n",
    "#     return {\n",
    "#         authCredentials: {\n",
    "#             username: \"%s\",\n",
    "#             password: \"%s\"\n",
    "#         }\n",
    "#     };\n",
    "# }\n",
    "\n",
    "# chrome.webRequest.onAuthRequired.addListener(\n",
    "#             callbackFn,\n",
    "#             {urls: [\"<all_urls>\"]},\n",
    "#             ['blocking']\n",
    "# );\n",
    "# \"\"\" % (PROXY_HOST, PROXY_PORT, PROXY_USER, PROXY_PASS)\n",
    "\n",
    "# Set up Chrome options\n",
    "options = Options()\n",
    "options.add_argument(\"--disable-infobars\")\n",
    "options.add_experimental_option(\"excludeSwitches\", [\"enable-automation\"])\n",
    "options.add_experimental_option('useAutomationExtension', False)\n",
    "\n",
    "# Disable password manager prompts\n",
    "prefs = {\"credentials_enable_service\": False,\n",
    "         \"profile.password_manager_enabled\": False}\n",
    "options.add_experimental_option(\"prefs\", prefs)\n",
    "\n",
    "\n",
    "\n",
    "# Randomize User-Agent\n",
    "user_agents = [\n",
    "    'Mozilla/5.0 (Macintosh; Intel Mac OS X 10_15_7) AppleWebKit/537.36 (KHTML, like Gecko) Chrome/115.0.0.0 Safari/537.36',\n",
    "    'Mozilla/5.0 (Windows NT 10.0; Win64; x64) AppleWebKit/537.36 (KHTML, like Gecko) Chrome/114.0.0.0 Safari/537.36',\n",
    "    'Mozilla/5.0 (Windows NT 10.0; Win64; x64) AppleWebKit/537.36 (KHTML, like Gecko) Chrome/116.0.0.0 Safari/537.36',\n",
    "]\n",
    "options.add_argument(f\"user-agent={random.choice(user_agents)}\")\n",
    "# options.add_argument(\"user-data-dir=C:\\\\Users\\\\trand\\\\AppData\\\\Local\\\\Google\\\\Chrome\\\\User Data\\\\Profile 3\")  \n",
    "\n",
    "\n",
    "# # Set up proxy\n",
    "# pluginfile = 'proxy_auth_plugin.zip'\n",
    "# with zipfile.ZipFile(pluginfile, 'w') as zp:\n",
    "#     zp.writestr(\"manifest.json\", manifest_json)\n",
    "#     zp.writestr(\"background.js\", background_js)\n",
    "# options.add_extension(pluginfile)\n",
    "\n",
    "# Launch browser\n",
    "# s=Service(ChromeDriverManager().install())    chưa đầu tư sửa warning \n",
    "driver = webdriver.Chrome(chrome_driver_path, options=options)\n",
    "driver.get(\"\")\n",
    "\n"
   ]
  },
  {
   "cell_type": "code",
   "execution_count": 6,
   "metadata": {},
   "outputs": [],
   "source": [
    "input_search = driver.find_element(By.CSS_SELECTOR,\"input.form-control.ipe-10\")\n",
    "search_btn = driver.find_element(By.CSS_SELECTOR,\"button.ibtn.ibtn-primary.ibtn-search.ifs-16\")\n",
    "actions = ActionChains(driver)\n",
    "\n",
    "actions.move_to_element(input_search).click(input_search).perform()\n",
    "time.sleep(10)\n",
    "input_search.send_keys('Data')\n",
    "time.sleep(10)\n",
    "actions.move_to_element(search_btn).click(search_btn).perform()"
   ]
  },
  {
   "cell_type": "code",
   "execution_count": null,
   "metadata": {},
   "outputs": [],
   "source": [
    "time.sleep(10)\n",
    "actions.move_to_element(search_btn).click(search_btn).perform()"
   ]
  },
  {
   "cell_type": "code",
   "execution_count": null,
   "metadata": {},
   "outputs": [],
   "source": [
    "### cần phải làm cookie "
   ]
  }
 ],
 "metadata": {
  "kernelspec": {
   "display_name": "env",
   "language": "python",
   "name": "python3"
  },
  "language_info": {
   "codemirror_mode": {
    "name": "ipython",
    "version": 3
   },
   "file_extension": ".py",
   "mimetype": "text/x-python",
   "name": "python",
   "nbconvert_exporter": "python",
   "pygments_lexer": "ipython3",
   "version": "3.11.4"
  }
 },
 "nbformat": 4,
 "nbformat_minor": 2
}
